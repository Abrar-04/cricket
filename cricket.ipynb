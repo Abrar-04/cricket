{
 "cells": [
  {
   "cell_type": "code",
   "execution_count": 1,
   "metadata": {},
   "outputs": [],
   "source": [
    "import pandas as pd\n",
    "import numpy as np\n",
    "import matplotlib.pyplot as plt\n",
    "import seaborn as sns"
   ]
  },
  {
   "cell_type": "code",
   "execution_count": 2,
   "metadata": {},
   "outputs": [],
   "source": [
    "data=pd.read_csv('Grounds.csv')"
   ]
  },
  {
   "cell_type": "code",
   "execution_count": 3,
   "metadata": {},
   "outputs": [
    {
     "data": {
      "text/html": [
       "<div>\n",
       "<style scoped>\n",
       "    .dataframe tbody tr th:only-of-type {\n",
       "        vertical-align: middle;\n",
       "    }\n",
       "\n",
       "    .dataframe tbody tr th {\n",
       "        vertical-align: top;\n",
       "    }\n",
       "\n",
       "    .dataframe thead th {\n",
       "        text-align: right;\n",
       "    }\n",
       "</style>\n",
       "<table border=\"1\" class=\"dataframe\">\n",
       "  <thead>\n",
       "    <tr style=\"text-align: right;\">\n",
       "      <th></th>\n",
       "      <th>Name</th>\n",
       "      <th>Length (meters)</th>\n",
       "      <th>Width (meters)</th>\n",
       "      <th>Average Wind speed (kmph)</th>\n",
       "      <th>Pitch Type</th>\n",
       "      <th>Average Score</th>\n",
       "      <th>Country</th>\n",
       "    </tr>\n",
       "  </thead>\n",
       "  <tbody>\n",
       "    <tr>\n",
       "      <th>0</th>\n",
       "      <td>Melbourne Cricket Ground</td>\n",
       "      <td>173</td>\n",
       "      <td>148</td>\n",
       "      <td>12</td>\n",
       "      <td>Green</td>\n",
       "      <td>222</td>\n",
       "      <td>Australia</td>\n",
       "    </tr>\n",
       "    <tr>\n",
       "      <th>1</th>\n",
       "      <td>Sydney Cricket Ground</td>\n",
       "      <td>156</td>\n",
       "      <td>154</td>\n",
       "      <td>15</td>\n",
       "      <td>Green</td>\n",
       "      <td>223</td>\n",
       "      <td>Australia</td>\n",
       "    </tr>\n",
       "    <tr>\n",
       "      <th>2</th>\n",
       "      <td>Adelaide Oval</td>\n",
       "      <td>190</td>\n",
       "      <td>126</td>\n",
       "      <td>14</td>\n",
       "      <td>Green</td>\n",
       "      <td>230</td>\n",
       "      <td>Australia</td>\n",
       "    </tr>\n",
       "    <tr>\n",
       "      <th>3</th>\n",
       "      <td>The Gabba</td>\n",
       "      <td>170</td>\n",
       "      <td>150</td>\n",
       "      <td>15</td>\n",
       "      <td>Green</td>\n",
       "      <td>228</td>\n",
       "      <td>Australia</td>\n",
       "    </tr>\n",
       "    <tr>\n",
       "      <th>4</th>\n",
       "      <td>WACA Ground</td>\n",
       "      <td>149</td>\n",
       "      <td>139</td>\n",
       "      <td>17</td>\n",
       "      <td>Dead</td>\n",
       "      <td>199</td>\n",
       "      <td>Australia</td>\n",
       "    </tr>\n",
       "  </tbody>\n",
       "</table>\n",
       "</div>"
      ],
      "text/plain": [
       "                       Name  Length (meters)  Width (meters)  \\\n",
       "0  Melbourne Cricket Ground              173             148   \n",
       "1     Sydney Cricket Ground              156             154   \n",
       "2             Adelaide Oval              190             126   \n",
       "3                 The Gabba              170             150   \n",
       "4               WACA Ground              149             139   \n",
       "\n",
       "   Average Wind speed (kmph) Pitch Type  Average Score        Country  \n",
       "0                         12      Green            222      Australia  \n",
       "1                         15      Green            223      Australia  \n",
       "2                         14      Green            230      Australia  \n",
       "3                         15      Green            228      Australia  \n",
       "4                         17       Dead            199      Australia  "
      ]
     },
     "execution_count": 3,
     "metadata": {},
     "output_type": "execute_result"
    }
   ],
   "source": [
    "data.head()"
   ]
  },
  {
   "cell_type": "code",
   "execution_count": 4,
   "metadata": {},
   "outputs": [
    {
     "data": {
      "text/plain": [
       "Index(['Name', 'Length (meters)', 'Width (meters)',\n",
       "       'Average Wind speed (kmph)', 'Pitch Type', 'Average Score',\n",
       "       '    Country'],\n",
       "      dtype='object')"
      ]
     },
     "execution_count": 4,
     "metadata": {},
     "output_type": "execute_result"
    }
   ],
   "source": [
    "data.columns"
   ]
  },
  {
   "cell_type": "code",
   "execution_count": 5,
   "metadata": {},
   "outputs": [],
   "source": [
    "data.rename(columns = {'    Country':'country'}, inplace = True)"
   ]
  },
  {
   "cell_type": "code",
   "execution_count": 6,
   "metadata": {},
   "outputs": [
    {
     "data": {
      "text/plain": [
       "Index(['Name', 'Length (meters)', 'Width (meters)',\n",
       "       'Average Wind speed (kmph)', 'Pitch Type', 'Average Score', 'country'],\n",
       "      dtype='object')"
      ]
     },
     "execution_count": 6,
     "metadata": {},
     "output_type": "execute_result"
    }
   ],
   "source": [
    "data.columns"
   ]
  },
  {
   "cell_type": "code",
   "execution_count": 7,
   "metadata": {},
   "outputs": [],
   "source": [
    "onehot_columns = ['country','Pitch Type']\n",
    "onehot_df = data[onehot_columns]\n",
    "onehot_df = pd.get_dummies(onehot_df, columns = onehot_columns)\n",
    "score_onehot_drop = data.drop(onehot_columns, axis = 1)\n",
    "score_onehot = pd.concat([score_onehot_drop, onehot_df], axis = 1)"
   ]
  },
  {
   "cell_type": "code",
   "execution_count": 8,
   "metadata": {},
   "outputs": [
    {
     "data": {
      "text/plain": [
       "Index(['Name', 'Length (meters)', 'Width (meters)',\n",
       "       'Average Wind speed (kmph)', 'Average Score', 'country_       India',\n",
       "       'country_      Dubai', 'country_      England', 'country_     Pakistan',\n",
       "       'country_    Australia', 'country_    Sri Lanka',\n",
       "       'country_  Afghanistan', 'country_  Bangladesh',\n",
       "       'country_  New Zealand', 'country_  South Africa',\n",
       "       'country_  West Indies', 'Pitch Type_Dead', 'Pitch Type_Dusty',\n",
       "       'Pitch Type_Green'],\n",
       "      dtype='object')"
      ]
     },
     "execution_count": 8,
     "metadata": {},
     "output_type": "execute_result"
    }
   ],
   "source": [
    "score_onehot.columns"
   ]
  },
  {
   "cell_type": "code",
   "execution_count": 9,
   "metadata": {},
   "outputs": [
    {
     "data": {
      "text/html": [
       "<div>\n",
       "<style scoped>\n",
       "    .dataframe tbody tr th:only-of-type {\n",
       "        vertical-align: middle;\n",
       "    }\n",
       "\n",
       "    .dataframe tbody tr th {\n",
       "        vertical-align: top;\n",
       "    }\n",
       "\n",
       "    .dataframe thead th {\n",
       "        text-align: right;\n",
       "    }\n",
       "</style>\n",
       "<table border=\"1\" class=\"dataframe\">\n",
       "  <thead>\n",
       "    <tr style=\"text-align: right;\">\n",
       "      <th></th>\n",
       "      <th>Name</th>\n",
       "      <th>Length (meters)</th>\n",
       "      <th>Width (meters)</th>\n",
       "      <th>Average Wind speed (kmph)</th>\n",
       "      <th>Average Score</th>\n",
       "      <th>country_       India</th>\n",
       "      <th>country_      Dubai</th>\n",
       "      <th>country_      England</th>\n",
       "      <th>country_     Pakistan</th>\n",
       "      <th>country_    Australia</th>\n",
       "      <th>country_    Sri Lanka</th>\n",
       "      <th>country_  Afghanistan</th>\n",
       "      <th>country_  Bangladesh</th>\n",
       "      <th>country_  New Zealand</th>\n",
       "      <th>country_  South Africa</th>\n",
       "      <th>country_  West Indies</th>\n",
       "      <th>Pitch Type_Dead</th>\n",
       "      <th>Pitch Type_Dusty</th>\n",
       "      <th>Pitch Type_Green</th>\n",
       "    </tr>\n",
       "  </thead>\n",
       "  <tbody>\n",
       "    <tr>\n",
       "      <th>0</th>\n",
       "      <td>Melbourne Cricket Ground</td>\n",
       "      <td>173</td>\n",
       "      <td>148</td>\n",
       "      <td>12</td>\n",
       "      <td>222</td>\n",
       "      <td>0</td>\n",
       "      <td>0</td>\n",
       "      <td>0</td>\n",
       "      <td>0</td>\n",
       "      <td>1</td>\n",
       "      <td>0</td>\n",
       "      <td>0</td>\n",
       "      <td>0</td>\n",
       "      <td>0</td>\n",
       "      <td>0</td>\n",
       "      <td>0</td>\n",
       "      <td>0</td>\n",
       "      <td>0</td>\n",
       "      <td>1</td>\n",
       "    </tr>\n",
       "    <tr>\n",
       "      <th>1</th>\n",
       "      <td>Sydney Cricket Ground</td>\n",
       "      <td>156</td>\n",
       "      <td>154</td>\n",
       "      <td>15</td>\n",
       "      <td>223</td>\n",
       "      <td>0</td>\n",
       "      <td>0</td>\n",
       "      <td>0</td>\n",
       "      <td>0</td>\n",
       "      <td>1</td>\n",
       "      <td>0</td>\n",
       "      <td>0</td>\n",
       "      <td>0</td>\n",
       "      <td>0</td>\n",
       "      <td>0</td>\n",
       "      <td>0</td>\n",
       "      <td>0</td>\n",
       "      <td>0</td>\n",
       "      <td>1</td>\n",
       "    </tr>\n",
       "    <tr>\n",
       "      <th>2</th>\n",
       "      <td>Adelaide Oval</td>\n",
       "      <td>190</td>\n",
       "      <td>126</td>\n",
       "      <td>14</td>\n",
       "      <td>230</td>\n",
       "      <td>0</td>\n",
       "      <td>0</td>\n",
       "      <td>0</td>\n",
       "      <td>0</td>\n",
       "      <td>1</td>\n",
       "      <td>0</td>\n",
       "      <td>0</td>\n",
       "      <td>0</td>\n",
       "      <td>0</td>\n",
       "      <td>0</td>\n",
       "      <td>0</td>\n",
       "      <td>0</td>\n",
       "      <td>0</td>\n",
       "      <td>1</td>\n",
       "    </tr>\n",
       "    <tr>\n",
       "      <th>3</th>\n",
       "      <td>The Gabba</td>\n",
       "      <td>170</td>\n",
       "      <td>150</td>\n",
       "      <td>15</td>\n",
       "      <td>228</td>\n",
       "      <td>0</td>\n",
       "      <td>0</td>\n",
       "      <td>0</td>\n",
       "      <td>0</td>\n",
       "      <td>1</td>\n",
       "      <td>0</td>\n",
       "      <td>0</td>\n",
       "      <td>0</td>\n",
       "      <td>0</td>\n",
       "      <td>0</td>\n",
       "      <td>0</td>\n",
       "      <td>0</td>\n",
       "      <td>0</td>\n",
       "      <td>1</td>\n",
       "    </tr>\n",
       "    <tr>\n",
       "      <th>4</th>\n",
       "      <td>WACA Ground</td>\n",
       "      <td>149</td>\n",
       "      <td>139</td>\n",
       "      <td>17</td>\n",
       "      <td>199</td>\n",
       "      <td>0</td>\n",
       "      <td>0</td>\n",
       "      <td>0</td>\n",
       "      <td>0</td>\n",
       "      <td>1</td>\n",
       "      <td>0</td>\n",
       "      <td>0</td>\n",
       "      <td>0</td>\n",
       "      <td>0</td>\n",
       "      <td>0</td>\n",
       "      <td>0</td>\n",
       "      <td>1</td>\n",
       "      <td>0</td>\n",
       "      <td>0</td>\n",
       "    </tr>\n",
       "  </tbody>\n",
       "</table>\n",
       "</div>"
      ],
      "text/plain": [
       "                       Name  Length (meters)  Width (meters)  \\\n",
       "0  Melbourne Cricket Ground              173             148   \n",
       "1     Sydney Cricket Ground              156             154   \n",
       "2             Adelaide Oval              190             126   \n",
       "3                 The Gabba              170             150   \n",
       "4               WACA Ground              149             139   \n",
       "\n",
       "   Average Wind speed (kmph)  Average Score  country_       India  \\\n",
       "0                         12            222                     0   \n",
       "1                         15            223                     0   \n",
       "2                         14            230                     0   \n",
       "3                         15            228                     0   \n",
       "4                         17            199                     0   \n",
       "\n",
       "   country_      Dubai  country_      England  country_     Pakistan  \\\n",
       "0                    0                      0                      0   \n",
       "1                    0                      0                      0   \n",
       "2                    0                      0                      0   \n",
       "3                    0                      0                      0   \n",
       "4                    0                      0                      0   \n",
       "\n",
       "   country_    Australia  country_    Sri Lanka  country_  Afghanistan  \\\n",
       "0                      1                      0                      0   \n",
       "1                      1                      0                      0   \n",
       "2                      1                      0                      0   \n",
       "3                      1                      0                      0   \n",
       "4                      1                      0                      0   \n",
       "\n",
       "   country_  Bangladesh  country_  New Zealand  country_  South Africa  \\\n",
       "0                     0                      0                       0   \n",
       "1                     0                      0                       0   \n",
       "2                     0                      0                       0   \n",
       "3                     0                      0                       0   \n",
       "4                     0                      0                       0   \n",
       "\n",
       "   country_  West Indies  Pitch Type_Dead  Pitch Type_Dusty  Pitch Type_Green  \n",
       "0                      0                0                 0                 1  \n",
       "1                      0                0                 0                 1  \n",
       "2                      0                0                 0                 1  \n",
       "3                      0                0                 0                 1  \n",
       "4                      0                1                 0                 0  "
      ]
     },
     "execution_count": 9,
     "metadata": {},
     "output_type": "execute_result"
    }
   ],
   "source": [
    "\n",
    "score_onehot.head()"
   ]
  },
  {
   "cell_type": "code",
   "execution_count": 10,
   "metadata": {},
   "outputs": [],
   "source": [
    "score_onehot=score_onehot.drop('Name',1)"
   ]
  },
  {
   "cell_type": "code",
   "execution_count": 11,
   "metadata": {},
   "outputs": [
    {
     "data": {
      "text/html": [
       "<div>\n",
       "<style scoped>\n",
       "    .dataframe tbody tr th:only-of-type {\n",
       "        vertical-align: middle;\n",
       "    }\n",
       "\n",
       "    .dataframe tbody tr th {\n",
       "        vertical-align: top;\n",
       "    }\n",
       "\n",
       "    .dataframe thead th {\n",
       "        text-align: right;\n",
       "    }\n",
       "</style>\n",
       "<table border=\"1\" class=\"dataframe\">\n",
       "  <thead>\n",
       "    <tr style=\"text-align: right;\">\n",
       "      <th></th>\n",
       "      <th>Length (meters)</th>\n",
       "      <th>Width (meters)</th>\n",
       "      <th>Average Wind speed (kmph)</th>\n",
       "      <th>Average Score</th>\n",
       "      <th>country_       India</th>\n",
       "      <th>country_      Dubai</th>\n",
       "      <th>country_      England</th>\n",
       "      <th>country_     Pakistan</th>\n",
       "      <th>country_    Australia</th>\n",
       "      <th>country_    Sri Lanka</th>\n",
       "      <th>country_  Afghanistan</th>\n",
       "      <th>country_  Bangladesh</th>\n",
       "      <th>country_  New Zealand</th>\n",
       "      <th>country_  South Africa</th>\n",
       "      <th>country_  West Indies</th>\n",
       "      <th>Pitch Type_Dead</th>\n",
       "      <th>Pitch Type_Dusty</th>\n",
       "      <th>Pitch Type_Green</th>\n",
       "    </tr>\n",
       "  </thead>\n",
       "  <tbody>\n",
       "    <tr>\n",
       "      <th>0</th>\n",
       "      <td>173</td>\n",
       "      <td>148</td>\n",
       "      <td>12</td>\n",
       "      <td>222</td>\n",
       "      <td>0</td>\n",
       "      <td>0</td>\n",
       "      <td>0</td>\n",
       "      <td>0</td>\n",
       "      <td>1</td>\n",
       "      <td>0</td>\n",
       "      <td>0</td>\n",
       "      <td>0</td>\n",
       "      <td>0</td>\n",
       "      <td>0</td>\n",
       "      <td>0</td>\n",
       "      <td>0</td>\n",
       "      <td>0</td>\n",
       "      <td>1</td>\n",
       "    </tr>\n",
       "    <tr>\n",
       "      <th>1</th>\n",
       "      <td>156</td>\n",
       "      <td>154</td>\n",
       "      <td>15</td>\n",
       "      <td>223</td>\n",
       "      <td>0</td>\n",
       "      <td>0</td>\n",
       "      <td>0</td>\n",
       "      <td>0</td>\n",
       "      <td>1</td>\n",
       "      <td>0</td>\n",
       "      <td>0</td>\n",
       "      <td>0</td>\n",
       "      <td>0</td>\n",
       "      <td>0</td>\n",
       "      <td>0</td>\n",
       "      <td>0</td>\n",
       "      <td>0</td>\n",
       "      <td>1</td>\n",
       "    </tr>\n",
       "    <tr>\n",
       "      <th>2</th>\n",
       "      <td>190</td>\n",
       "      <td>126</td>\n",
       "      <td>14</td>\n",
       "      <td>230</td>\n",
       "      <td>0</td>\n",
       "      <td>0</td>\n",
       "      <td>0</td>\n",
       "      <td>0</td>\n",
       "      <td>1</td>\n",
       "      <td>0</td>\n",
       "      <td>0</td>\n",
       "      <td>0</td>\n",
       "      <td>0</td>\n",
       "      <td>0</td>\n",
       "      <td>0</td>\n",
       "      <td>0</td>\n",
       "      <td>0</td>\n",
       "      <td>1</td>\n",
       "    </tr>\n",
       "    <tr>\n",
       "      <th>3</th>\n",
       "      <td>170</td>\n",
       "      <td>150</td>\n",
       "      <td>15</td>\n",
       "      <td>228</td>\n",
       "      <td>0</td>\n",
       "      <td>0</td>\n",
       "      <td>0</td>\n",
       "      <td>0</td>\n",
       "      <td>1</td>\n",
       "      <td>0</td>\n",
       "      <td>0</td>\n",
       "      <td>0</td>\n",
       "      <td>0</td>\n",
       "      <td>0</td>\n",
       "      <td>0</td>\n",
       "      <td>0</td>\n",
       "      <td>0</td>\n",
       "      <td>1</td>\n",
       "    </tr>\n",
       "    <tr>\n",
       "      <th>4</th>\n",
       "      <td>149</td>\n",
       "      <td>139</td>\n",
       "      <td>17</td>\n",
       "      <td>199</td>\n",
       "      <td>0</td>\n",
       "      <td>0</td>\n",
       "      <td>0</td>\n",
       "      <td>0</td>\n",
       "      <td>1</td>\n",
       "      <td>0</td>\n",
       "      <td>0</td>\n",
       "      <td>0</td>\n",
       "      <td>0</td>\n",
       "      <td>0</td>\n",
       "      <td>0</td>\n",
       "      <td>1</td>\n",
       "      <td>0</td>\n",
       "      <td>0</td>\n",
       "    </tr>\n",
       "  </tbody>\n",
       "</table>\n",
       "</div>"
      ],
      "text/plain": [
       "   Length (meters)  Width (meters)  Average Wind speed (kmph)  Average Score  \\\n",
       "0              173             148                         12            222   \n",
       "1              156             154                         15            223   \n",
       "2              190             126                         14            230   \n",
       "3              170             150                         15            228   \n",
       "4              149             139                         17            199   \n",
       "\n",
       "   country_       India  country_      Dubai  country_      England  \\\n",
       "0                     0                    0                      0   \n",
       "1                     0                    0                      0   \n",
       "2                     0                    0                      0   \n",
       "3                     0                    0                      0   \n",
       "4                     0                    0                      0   \n",
       "\n",
       "   country_     Pakistan  country_    Australia  country_    Sri Lanka  \\\n",
       "0                      0                      1                      0   \n",
       "1                      0                      1                      0   \n",
       "2                      0                      1                      0   \n",
       "3                      0                      1                      0   \n",
       "4                      0                      1                      0   \n",
       "\n",
       "   country_  Afghanistan  country_  Bangladesh  country_  New Zealand  \\\n",
       "0                      0                     0                      0   \n",
       "1                      0                     0                      0   \n",
       "2                      0                     0                      0   \n",
       "3                      0                     0                      0   \n",
       "4                      0                     0                      0   \n",
       "\n",
       "   country_  South Africa  country_  West Indies  Pitch Type_Dead  \\\n",
       "0                       0                      0                0   \n",
       "1                       0                      0                0   \n",
       "2                       0                      0                0   \n",
       "3                       0                      0                0   \n",
       "4                       0                      0                1   \n",
       "\n",
       "   Pitch Type_Dusty  Pitch Type_Green  \n",
       "0                 0                 1  \n",
       "1                 0                 1  \n",
       "2                 0                 1  \n",
       "3                 0                 1  \n",
       "4                 0                 0  "
      ]
     },
     "execution_count": 11,
     "metadata": {},
     "output_type": "execute_result"
    }
   ],
   "source": [
    "score_onehot.head()"
   ]
  },
  {
   "cell_type": "code",
   "execution_count": 12,
   "metadata": {},
   "outputs": [],
   "source": [
    "from sklearn.model_selection import train_test_split\n",
    "from sklearn.preprocessing import LabelEncoder, MinMaxScaler\n",
    "import xgboost as xgb\n",
    "from math import sqrt\n",
    "from sklearn.metrics import mean_squared_error\n",
    "from scipy.stats import uniform, randint\n",
    "from sklearn.model_selection import TimeSeriesSplit, cross_val_score, GridSearchCV, RandomizedSearchCV\n",
    "from sklearn.preprocessing import StandardScaler\n",
    "from sklearn.metrics import confusion_matrix"
   ]
  },
  {
   "cell_type": "code",
   "execution_count": 13,
   "metadata": {},
   "outputs": [],
   "source": [
    "X = score_onehot.drop(\"Average Score\",1)   \n",
    "y = score_onehot[\"Average Score\"]"
   ]
  },
  {
   "cell_type": "code",
   "execution_count": 14,
   "metadata": {},
   "outputs": [],
   "source": [
    "X_train, X_test, y_train, y_test = train_test_split(X.values, y.values, test_size=0.20, random_state=42)"
   ]
  },
  {
   "cell_type": "code",
   "execution_count": 15,
   "metadata": {},
   "outputs": [
    {
     "data": {
      "text/plain": [
       "RandomForestRegressor(random_state=0)"
      ]
     },
     "execution_count": 15,
     "metadata": {},
     "output_type": "execute_result"
    }
   ],
   "source": [
    "# Fitting Random Forest Regression to the dataset\n",
    "# import the regressor\n",
    "from sklearn.ensemble import RandomForestRegressor\n",
    " \n",
    " # create regressor object\n",
    "regressor = RandomForestRegressor(n_estimators = 100, random_state = 0)\n",
    " \n",
    "# fit the regressor with x and y data\n",
    "regressor.fit(X_train, y_train)"
   ]
  },
  {
   "cell_type": "code",
   "execution_count": 16,
   "metadata": {},
   "outputs": [
    {
     "name": "stdout",
     "output_type": "stream",
     "text": [
      "RMSE: 39.47673593396495\n"
     ]
    }
   ],
   "source": [
    "y_pred = regressor.predict(X_test)\n",
    "rms = sqrt(mean_squared_error(y_test, y_pred))\n",
    "rms = sqrt(mean_squared_error(y_test, y_pred))\n",
    "print ('RMSE:', rms)\n"
   ]
  },
  {
   "cell_type": "code",
   "execution_count": null,
   "metadata": {},
   "outputs": [],
   "source": []
  },
  {
   "cell_type": "code",
   "execution_count": 17,
   "metadata": {},
   "outputs": [],
   "source": [
    "def testing_rf(data):\n",
    "    \n",
    "    data_list = list((np.array(data)).reshape(-1))\n",
    "\n",
    "    df = pd.DataFrame()\n",
    "    col_names = ['f%d' % i for i in range(17)]\n",
    "    df = df.append(pd.Series(data=data_list, index=col_names), ignore_index=True)\n",
    "\n",
    "    result1 = regressor.predict(df)\n",
    "    \n",
    "    return np.around(int(result1))"
   ]
  },
  {
   "cell_type": "code",
   "execution_count": 18,
   "metadata": {},
   "outputs": [
    {
     "data": {
      "text/plain": [
       "298"
      ]
     },
     "execution_count": 18,
     "metadata": {},
     "output_type": "execute_result"
    }
   ],
   "source": [
    "from numpy import asarray\n",
    "\n",
    "pred = testing_rf([120,112,20,0,0,0,0,0,1,0,0,0,0,0,1,0,0])\n",
    "pred"
   ]
  },
  {
   "cell_type": "code",
   "execution_count": 19,
   "metadata": {},
   "outputs": [],
   "source": [
    "import pickle\n",
    "\n",
    "pickle_out = open(\"rfClassifier.pkl\",\"wb\")\n",
    "pickle.dump(regressor,pickle_out)\n",
    "pickle_out.close()"
   ]
  },
  {
   "cell_type": "code",
   "execution_count": 20,
   "metadata": {},
   "outputs": [],
   "source": [
    "pickle_in=open('rfClassifier.pkl','rb')\n",
    "classifier = pickle.load(pickle_in)"
   ]
  },
  {
   "cell_type": "code",
   "execution_count": 21,
   "metadata": {},
   "outputs": [],
   "source": [
    "def saved_testing_rf(data):\n",
    "    \n",
    "    data_list = list((np.array(data)).reshape(-1))\n",
    "\n",
    "    df = pd.DataFrame()\n",
    "    col_names = ['f%d' % i for i in range(17)]\n",
    "    df = df.append(pd.Series(data=data_list, index=col_names), ignore_index=True)\n",
    "\n",
    "    result1 = classifier.predict(df)\n",
    "    \n",
    "    return np.around(int(result1))"
   ]
  },
  {
   "cell_type": "code",
   "execution_count": 22,
   "metadata": {},
   "outputs": [
    {
     "data": {
      "text/plain": [
       "298"
      ]
     },
     "execution_count": 22,
     "metadata": {},
     "output_type": "execute_result"
    }
   ],
   "source": [
    "from numpy import asarray\n",
    "\n",
    "pred = saved_testing_rf([120,112,20,0,0,0,0,0,1,0,0,0,0,0,1,0,0])\n",
    "pred"
   ]
  },
  {
   "cell_type": "code",
   "execution_count": null,
   "metadata": {},
   "outputs": [],
   "source": []
  },
  {
   "cell_type": "code",
   "execution_count": null,
   "metadata": {},
   "outputs": [],
   "source": []
  },
  {
   "cell_type": "code",
   "execution_count": null,
   "metadata": {},
   "outputs": [],
   "source": []
  },
  {
   "cell_type": "code",
   "execution_count": null,
   "metadata": {},
   "outputs": [],
   "source": [
    "length= 120\n",
    "width=112\n",
    "avgWind=20\n",
    "country= [0,0,0,0,0,1,0,0,0,0,0]\n",
    "pitch=[1,0,0]\n",
    "\n",
    "dataz=[]\n",
    "\n",
    "dataz.extend([length])\n",
    "dataz.extend([width])\n",
    "dataz.extend([avgWind])\n",
    "dataz=dataz+country\n",
    "dataz=dataz+pitch\n",
    "\n",
    "print(dataz)"
   ]
  },
  {
   "cell_type": "code",
   "execution_count": null,
   "metadata": {},
   "outputs": [],
   "source": []
  },
  {
   "cell_type": "code",
   "execution_count": null,
   "metadata": {},
   "outputs": [],
   "source": []
  },
  {
   "cell_type": "code",
   "execution_count": null,
   "metadata": {},
   "outputs": [],
   "source": []
  },
  {
   "cell_type": "code",
   "execution_count": null,
   "metadata": {},
   "outputs": [],
   "source": []
  }
 ],
 "metadata": {
  "interpreter": {
   "hash": "cd8ac7ed5329ff1f59a8356dfddf06d159cf18414acbfd7b13d1d5cd1cbb5d7d"
  },
  "kernelspec": {
   "display_name": "Python 3.8.5 ('base')",
   "language": "python",
   "name": "python3"
  },
  "language_info": {
   "codemirror_mode": {
    "name": "ipython",
    "version": 3
   },
   "file_extension": ".py",
   "mimetype": "text/x-python",
   "name": "python",
   "nbconvert_exporter": "python",
   "pygments_lexer": "ipython3",
   "version": "3.8.5"
  },
  "orig_nbformat": 4
 },
 "nbformat": 4,
 "nbformat_minor": 2
}
